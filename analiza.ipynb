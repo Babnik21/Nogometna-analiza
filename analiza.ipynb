{
 "cells": [
  {
   "cell_type": "code",
   "execution_count": 6,
   "source": [
    "import pandas\r\n",
    "import os.path\r\n",
    "from glob import glob\r\n",
    "import numpy as np\r\n",
    "import math\r\n",
    "import matplotlib.pyplot as plt\r\n",
    "import seaborn as sns\r\n",
    "import ipywidgets as widgets\r\n",
    "from matplotlib.colors import Normalize\r\n",
    "from matplotlib.ticker import MaxNLocator\r\n",
    "from matplotlib.colors import LogNorm\r\n",
    "from matplotlib.patches import Patch\r\n",
    "from matplotlib.lines import Line2D\r\n",
    "\r\n",
    "\r\n"
   ],
   "outputs": [],
   "metadata": {}
  },
  {
   "cell_type": "code",
   "execution_count": 7,
   "source": [
    "#Uvozimo tabele\r\n",
    "paths = glob(\"tables/*.csv\")\r\n",
    "league_paths = [paths[0:4], paths[4:9], paths[9:13], paths[13:17], paths[17:]]\r\n",
    "leagues = [\"bundesliga\", \"laliga\", \"ligue 1\", \"premier league\", \"serie a\"]\r\n",
    "\r\n",
    "#Iz tabel izluščimo prednost prvouvščenega in njegovo povprečje točk na tekmo\r\n",
    "result = pandas.DataFrame({\"League\": [], \"PTS Difference\" : [], \"Points Per Game\" : []})\r\n",
    "for league, name in zip(league_paths, leagues):\r\n",
    "    for el in league:\r\n",
    "        tabela = pandas.read_csv(el, index_col = 0)\r\n",
    "        pts_diff = tabela.iloc[0][\"PTS\"] - tabela.iloc[1][\"PTS\"]\r\n",
    "        ppg = tabela.iloc[0][\"PTS\"]/(tabela.iloc[0][\"Wins\"] + tabela.iloc[0][\"Losses\"] + tabela.iloc[0][\"Draws\"])\r\n",
    "        new_row = {\"League\" : name, \"PTS Difference\" : pts_diff, \"Points Per Game\" : ppg}\r\n",
    "        result = result.append(new_row, ignore_index=True)\r\n",
    "result"
   ],
   "outputs": [
    {
     "output_type": "execute_result",
     "data": {
      "text/plain": [
       "            League  PTS Difference  Points Per Game\n",
       "0       bundesliga             6.0         2.400000\n",
       "1       bundesliga            21.0         2.470588\n",
       "2       bundesliga             2.0         2.294118\n",
       "3       bundesliga            13.0         2.411765\n",
       "4           laliga             1.0         2.394737\n",
       "5           laliga             3.0         2.447368\n",
       "6           laliga            14.0         2.447368\n",
       "7           laliga            11.0         2.289474\n",
       "8           laliga             5.0         2.289474\n",
       "9          ligue 1            31.0         2.526316\n",
       "10         ligue 1             8.0         2.500000\n",
       "11         ligue 1            13.0         2.447368\n",
       "12         ligue 1            16.0         2.394737\n",
       "13  premier league             7.0         2.447368\n",
       "14  premier league            19.0         2.631579\n",
       "15  premier league             1.0         2.578947\n",
       "16  premier league            18.0         2.605263\n",
       "17         serie a             9.0         2.394737\n",
       "18         serie a             4.0         2.394737\n",
       "19         serie a             4.0         2.500000\n",
       "20         serie a            11.0         2.368421\n",
       "21         serie a             1.0         2.184211"
      ],
      "text/html": [
       "<div>\n",
       "<style scoped>\n",
       "    .dataframe tbody tr th:only-of-type {\n",
       "        vertical-align: middle;\n",
       "    }\n",
       "\n",
       "    .dataframe tbody tr th {\n",
       "        vertical-align: top;\n",
       "    }\n",
       "\n",
       "    .dataframe thead th {\n",
       "        text-align: right;\n",
       "    }\n",
       "</style>\n",
       "<table border=\"1\" class=\"dataframe\">\n",
       "  <thead>\n",
       "    <tr style=\"text-align: right;\">\n",
       "      <th></th>\n",
       "      <th>League</th>\n",
       "      <th>PTS Difference</th>\n",
       "      <th>Points Per Game</th>\n",
       "    </tr>\n",
       "  </thead>\n",
       "  <tbody>\n",
       "    <tr>\n",
       "      <th>0</th>\n",
       "      <td>bundesliga</td>\n",
       "      <td>6.0</td>\n",
       "      <td>2.400000</td>\n",
       "    </tr>\n",
       "    <tr>\n",
       "      <th>1</th>\n",
       "      <td>bundesliga</td>\n",
       "      <td>21.0</td>\n",
       "      <td>2.470588</td>\n",
       "    </tr>\n",
       "    <tr>\n",
       "      <th>2</th>\n",
       "      <td>bundesliga</td>\n",
       "      <td>2.0</td>\n",
       "      <td>2.294118</td>\n",
       "    </tr>\n",
       "    <tr>\n",
       "      <th>3</th>\n",
       "      <td>bundesliga</td>\n",
       "      <td>13.0</td>\n",
       "      <td>2.411765</td>\n",
       "    </tr>\n",
       "    <tr>\n",
       "      <th>4</th>\n",
       "      <td>laliga</td>\n",
       "      <td>1.0</td>\n",
       "      <td>2.394737</td>\n",
       "    </tr>\n",
       "    <tr>\n",
       "      <th>5</th>\n",
       "      <td>laliga</td>\n",
       "      <td>3.0</td>\n",
       "      <td>2.447368</td>\n",
       "    </tr>\n",
       "    <tr>\n",
       "      <th>6</th>\n",
       "      <td>laliga</td>\n",
       "      <td>14.0</td>\n",
       "      <td>2.447368</td>\n",
       "    </tr>\n",
       "    <tr>\n",
       "      <th>7</th>\n",
       "      <td>laliga</td>\n",
       "      <td>11.0</td>\n",
       "      <td>2.289474</td>\n",
       "    </tr>\n",
       "    <tr>\n",
       "      <th>8</th>\n",
       "      <td>laliga</td>\n",
       "      <td>5.0</td>\n",
       "      <td>2.289474</td>\n",
       "    </tr>\n",
       "    <tr>\n",
       "      <th>9</th>\n",
       "      <td>ligue 1</td>\n",
       "      <td>31.0</td>\n",
       "      <td>2.526316</td>\n",
       "    </tr>\n",
       "    <tr>\n",
       "      <th>10</th>\n",
       "      <td>ligue 1</td>\n",
       "      <td>8.0</td>\n",
       "      <td>2.500000</td>\n",
       "    </tr>\n",
       "    <tr>\n",
       "      <th>11</th>\n",
       "      <td>ligue 1</td>\n",
       "      <td>13.0</td>\n",
       "      <td>2.447368</td>\n",
       "    </tr>\n",
       "    <tr>\n",
       "      <th>12</th>\n",
       "      <td>ligue 1</td>\n",
       "      <td>16.0</td>\n",
       "      <td>2.394737</td>\n",
       "    </tr>\n",
       "    <tr>\n",
       "      <th>13</th>\n",
       "      <td>premier league</td>\n",
       "      <td>7.0</td>\n",
       "      <td>2.447368</td>\n",
       "    </tr>\n",
       "    <tr>\n",
       "      <th>14</th>\n",
       "      <td>premier league</td>\n",
       "      <td>19.0</td>\n",
       "      <td>2.631579</td>\n",
       "    </tr>\n",
       "    <tr>\n",
       "      <th>15</th>\n",
       "      <td>premier league</td>\n",
       "      <td>1.0</td>\n",
       "      <td>2.578947</td>\n",
       "    </tr>\n",
       "    <tr>\n",
       "      <th>16</th>\n",
       "      <td>premier league</td>\n",
       "      <td>18.0</td>\n",
       "      <td>2.605263</td>\n",
       "    </tr>\n",
       "    <tr>\n",
       "      <th>17</th>\n",
       "      <td>serie a</td>\n",
       "      <td>9.0</td>\n",
       "      <td>2.394737</td>\n",
       "    </tr>\n",
       "    <tr>\n",
       "      <th>18</th>\n",
       "      <td>serie a</td>\n",
       "      <td>4.0</td>\n",
       "      <td>2.394737</td>\n",
       "    </tr>\n",
       "    <tr>\n",
       "      <th>19</th>\n",
       "      <td>serie a</td>\n",
       "      <td>4.0</td>\n",
       "      <td>2.500000</td>\n",
       "    </tr>\n",
       "    <tr>\n",
       "      <th>20</th>\n",
       "      <td>serie a</td>\n",
       "      <td>11.0</td>\n",
       "      <td>2.368421</td>\n",
       "    </tr>\n",
       "    <tr>\n",
       "      <th>21</th>\n",
       "      <td>serie a</td>\n",
       "      <td>1.0</td>\n",
       "      <td>2.184211</td>\n",
       "    </tr>\n",
       "  </tbody>\n",
       "</table>\n",
       "</div>"
      ]
     },
     "metadata": {},
     "execution_count": 7
    }
   ],
   "metadata": {}
  },
  {
   "cell_type": "code",
   "execution_count": 8,
   "source": [
    "def graphs_1(data):\r\n",
    "    _, (ax_1, ax_2) = plt.subplots(1, 2, figsize = (14, 5))\r\n",
    "    data.plot.scatter(\"League\", \"PTS Difference\", ax = ax_1, color = \"blue\")\r\n",
    "    data.plot.scatter(\"League\", \"Points Per Game\", ax = ax_2, color = \"red\")\r\n",
    "    plt.tight_layout()\r\n",
    "\r\n",
    "graphs_1(result)\r\n",
    "\r\n",
    "#kako das na isti graf pa da so razlicne barve razlicna liga?"
   ],
   "outputs": [
    {
     "output_type": "display_data",
     "data": {
      "text/plain": [
       "<Figure size 1008x360 with 2 Axes>"
      ],
      "image/png": "[encoded data removed]"
     },
     "metadata": {
      "needs_background": "light"
     }
    }
   ],
   "metadata": {}
  },
  {
   "cell_type": "markdown",
   "source": [
    "Levi graf prikazuje prednost prvouvrščenega pred naslednjim zasledovalcem na koncu sezone, desni graf pa prikazuje povprečje točk na tekmo prvouvrščenega. Velika razlika med 1. in 2. mestom nakazuje, da je bila ena ekipa izrazito boljša od konkurence. Število točk na tekmo pa je boljši pokazatelj kvalitete, saj je neodvisen od drugouvrščenega, ampak od celotne lige. Grafa nam data okvirno idejo kvalitete različnih klubov v ligi. Kot primer si poglejmo angleško Premier ligo in francosko Ligue 1. V angleški ligi opazimo višje povprečje točk na tekmo zmagovalca, med tem ko v francoski ligi opazimo višjo razliko med zmagovalcem in drugouvrščenim. Iz tega lahko sklepamo, da so v francoski ligi \"povprečni klubi\" bolj izenačeni, vodilnemu pa zato zadostuje manjša učinkovitost, da doseže enak ali večji naskok pred drugouvrščenim. Izpostavimo pa tudi to, da sta načeloma oba podatka med seboj povezana. Iz večje učinkovitosti sledi večje skupno število točk, in tako večja verjetnost za večjo prednost na vrhu lestvice."
   ],
   "metadata": {}
  },
  {
   "cell_type": "code",
   "execution_count": 9,
   "source": [
    "league_dict = {\"bundesliga\" : 1, \"laliga\" : 2, \"ligue 1\" : 3, \"premier league\" : 4, \"serie a\" : 5}\r\n",
    "def graph_1_colors(data):\r\n",
    "    x = data[\"PTS Difference\"].tolist()\r\n",
    "    y = data[\"Points Per Game\"].tolist()\r\n",
    "    c = [league_dict[x] for x in result[\"League\"].tolist()]\r\n",
    "    f = plt.figure()\r\n",
    "    f.set_figwidth(8)\r\n",
    "    f.set_figheight(6)\r\n",
    "    plt.scatter(x, y, c = c, cmap = plt.cm.get_cmap(\"Set3\", 5))\r\n",
    "    cbar = plt.colorbar(orientation = \"vertical\")\r\n",
    "    cbar.set_label(label=\"League\")\r\n",
    "    cbar.set_ticks([1.4, 2.2, 3, 3.8, 4.6])\r\n",
    "    cbar.set_ticklabels([\"bundesliga\", \"laliga\", \"ligue 1\", \"premier league\", \"serie a\"])\r\n",
    "    plt.xlabel(\"PTS Difference\")\r\n",
    "    plt.ylabel(\"Points Per Game\")\r\n",
    "    plt.show()\r\n",
    "graph_1_colors(result)"
   ],
   "outputs": [
    {
     "output_type": "display_data",
     "data": {
      "text/plain": [
       "<Figure size 576x432 with 2 Axes>"
      ],
      "image/png": "[encoded data removed]"
     },
     "metadata": {
      "needs_background": "light"
     }
    }
   ],
   "metadata": {}
  },
  {
   "cell_type": "markdown",
   "source": [
    "Zgornji graf prikazuje prednost in točke na tekmo prvouvrščenih v različnih sezonah. Vsaka barva predstavlja različno ligo. Na prvi pogled ni videti pravega vzorca, in mislim da je smiselno trditi, da med ligami ni velikih razlik. Zares izstopajo 3 vnosi. Najzanimivejši vnos pa je npr. skrajno leva zgornja točka. Gre za sezono 2018-2019, ko je Manchester City za las osvojil naslov. Kljub odličnem povprečju točk na tekmo so imeli pred prvim zasledovalcem (Liverpool) le točko prednosti. "
   ],
   "metadata": {}
  },
  {
   "cell_type": "code",
   "execution_count": 10,
   "source": [
    "paths_2 = glob(\"data/*.csv\")\r\n",
    "league_paths_2 = [paths_2[0:4], paths_2[4:9], paths_2[9:13], paths_2[13:17], paths_2[17:]]\r\n",
    "\r\n",
    "result_2 = pandas.DataFrame({\"League\": [], \"Goals per Game\" : []})\r\n",
    "for league, name in zip(league_paths_2, leagues):\r\n",
    "    for el in league:\r\n",
    "        tabela = pandas.read_csv(el, index_col = 0)\r\n",
    "        gpg = tabela[\"goals\"].mean() + tabela[\"opponent goals\"].mean()\r\n",
    "        new_row = {\"League\" : name, \"Goals per Game\" : gpg}\r\n",
    "        result_2 = result_2.append(new_row, ignore_index=True)\r\n",
    "        \r\n",
    "result_2.plot.scatter(\"League\", \"Goals per Game\", color = \"green\")\r\n"
   ],
   "outputs": [
    {
     "output_type": "execute_result",
     "data": {
      "text/plain": [
       "<AxesSubplot:xlabel='League', ylabel='Goals per Game'>"
      ]
     },
     "metadata": {},
     "execution_count": 10
    },
    {
     "output_type": "display_data",
     "data": {
      "text/plain": [
       "<Figure size 432x288 with 1 Axes>"
      ],
      "image/png": "[encoded data removed]"
     },
     "metadata": {
      "needs_background": "light"
     }
    }
   ],
   "metadata": {}
  },
  {
   "cell_type": "markdown",
   "source": [
    "Zgornji graf prikazuje povprečje golov na tekmo v posameznih ligah (vsaka točka predstavlja drugo sezono). Po pričakovanjih lahko opazimo razlike, v nemški ligi je povprečje golov precej višje kot v ostalih ligah, v angleški Premier ligi pa je najbolj konstantno. Treba je omeniti, da število golov na tekmo ne nakazuje razlike v kvaliteti, temveč predvsem v stilu igre. V Nemčiji, kjer ekipe dosegajo več golov na tekmo, lahko sklepamo, da je bolj popularen agresiven in napadalen stil igre, ki omogoča več doseženih golov (hkrati pa ekipe tudi bolj izpostavi protinapadom in prejetim zadetkom)."
   ],
   "metadata": {}
  },
  {
   "cell_type": "code",
   "execution_count": 16,
   "source": [
    "#Naredimo tabelo s korelacijskimi koeficienti (po Pearsonovi metodi)\r\n",
    "example = pandas.read_csv(\"tables/bundesliga-2018-2019.csv\")\r\n",
    "corr_pearson = example.corr(method = \"pearson\")\r\n",
    "corr_pearson"
   ],
   "outputs": [
    {
     "output_type": "execute_result",
     "data": {
      "text/plain": [
       "                      PTS  Goal Difference     Goals  Goals against      Wins  \\\n",
       "PTS              1.000000         0.979109  0.945922      -0.890307  0.991760   \n",
       "Goal Difference  0.979109         1.000000  0.957422      -0.921019  0.958079   \n",
       "Goals            0.945922         0.957422  1.000000      -0.769354  0.933409   \n",
       "Goals against   -0.890307        -0.921019 -0.769354       1.000000 -0.860654   \n",
       "Wins             0.991760         0.958079  0.933409      -0.860654  1.000000   \n",
       "Draws           -0.193992        -0.090678 -0.147367       0.001820 -0.318068   \n",
       "Losses          -0.963018        -0.970162 -0.920865       0.904318 -0.920566   \n",
       "\n",
       "                    Draws    Losses  \n",
       "PTS             -0.193992 -0.963018  \n",
       "Goal Difference -0.090678 -0.970162  \n",
       "Goals           -0.147367 -0.920865  \n",
       "Goals against    0.001820  0.904318  \n",
       "Wins            -0.318068 -0.920566  \n",
       "Draws            1.000000 -0.077502  \n",
       "Losses          -0.077502  1.000000  "
      ],
      "text/html": [
       "<div>\n",
       "<style scoped>\n",
       "    .dataframe tbody tr th:only-of-type {\n",
       "        vertical-align: middle;\n",
       "    }\n",
       "\n",
       "    .dataframe tbody tr th {\n",
       "        vertical-align: top;\n",
       "    }\n",
       "\n",
       "    .dataframe thead th {\n",
       "        text-align: right;\n",
       "    }\n",
       "</style>\n",
       "<table border=\"1\" class=\"dataframe\">\n",
       "  <thead>\n",
       "    <tr style=\"text-align: right;\">\n",
       "      <th></th>\n",
       "      <th>PTS</th>\n",
       "      <th>Goal Difference</th>\n",
       "      <th>Goals</th>\n",
       "      <th>Goals against</th>\n",
       "      <th>Wins</th>\n",
       "      <th>Draws</th>\n",
       "      <th>Losses</th>\n",
       "    </tr>\n",
       "  </thead>\n",
       "  <tbody>\n",
       "    <tr>\n",
       "      <th>PTS</th>\n",
       "      <td>1.000000</td>\n",
       "      <td>0.979109</td>\n",
       "      <td>0.945922</td>\n",
       "      <td>-0.890307</td>\n",
       "      <td>0.991760</td>\n",
       "      <td>-0.193992</td>\n",
       "      <td>-0.963018</td>\n",
       "    </tr>\n",
       "    <tr>\n",
       "      <th>Goal Difference</th>\n",
       "      <td>0.979109</td>\n",
       "      <td>1.000000</td>\n",
       "      <td>0.957422</td>\n",
       "      <td>-0.921019</td>\n",
       "      <td>0.958079</td>\n",
       "      <td>-0.090678</td>\n",
       "      <td>-0.970162</td>\n",
       "    </tr>\n",
       "    <tr>\n",
       "      <th>Goals</th>\n",
       "      <td>0.945922</td>\n",
       "      <td>0.957422</td>\n",
       "      <td>1.000000</td>\n",
       "      <td>-0.769354</td>\n",
       "      <td>0.933409</td>\n",
       "      <td>-0.147367</td>\n",
       "      <td>-0.920865</td>\n",
       "    </tr>\n",
       "    <tr>\n",
       "      <th>Goals against</th>\n",
       "      <td>-0.890307</td>\n",
       "      <td>-0.921019</td>\n",
       "      <td>-0.769354</td>\n",
       "      <td>1.000000</td>\n",
       "      <td>-0.860654</td>\n",
       "      <td>0.001820</td>\n",
       "      <td>0.904318</td>\n",
       "    </tr>\n",
       "    <tr>\n",
       "      <th>Wins</th>\n",
       "      <td>0.991760</td>\n",
       "      <td>0.958079</td>\n",
       "      <td>0.933409</td>\n",
       "      <td>-0.860654</td>\n",
       "      <td>1.000000</td>\n",
       "      <td>-0.318068</td>\n",
       "      <td>-0.920566</td>\n",
       "    </tr>\n",
       "    <tr>\n",
       "      <th>Draws</th>\n",
       "      <td>-0.193992</td>\n",
       "      <td>-0.090678</td>\n",
       "      <td>-0.147367</td>\n",
       "      <td>0.001820</td>\n",
       "      <td>-0.318068</td>\n",
       "      <td>1.000000</td>\n",
       "      <td>-0.077502</td>\n",
       "    </tr>\n",
       "    <tr>\n",
       "      <th>Losses</th>\n",
       "      <td>-0.963018</td>\n",
       "      <td>-0.970162</td>\n",
       "      <td>-0.920865</td>\n",
       "      <td>0.904318</td>\n",
       "      <td>-0.920566</td>\n",
       "      <td>-0.077502</td>\n",
       "      <td>1.000000</td>\n",
       "    </tr>\n",
       "  </tbody>\n",
       "</table>\n",
       "</div>"
      ]
     },
     "metadata": {},
     "execution_count": 16
    }
   ],
   "metadata": {}
  },
  {
   "cell_type": "code",
   "execution_count": 12,
   "source": [
    "#Tabela s korelacijskimi koeficienti (Spearmanova metoda)\r\n",
    "corr_spearman = example.corr(method = \"spearman\")"
   ],
   "outputs": [],
   "metadata": {}
  },
  {
   "cell_type": "markdown",
   "source": [
    "Zgornji tabeli prikazujeta korelacijske koeficiente med izbranimi statističnimi kategorijami, izračunani po Pearsonovi (zgornja tabela) in Spearmanovi (spodnja tabela). Za vzorec sem izbral nemško Bundesligo, in sicer sezono 2018/2019. Zanima me, kako so te statistične kategorije povezane med seboj. Po pričakovanjih vidimo, da so dosežene točke skoraj linearno odvisne od števila zmag (čeprav tudi remiji prinesejo eno točko). Ko smo ravno pri remijih, opazimo, da kar precej negativno vplivajo na število točk, čeprav prinesejo ekipi eno točko, saj ekipa ob remiju \"zamudi zmago\" in tako ne pridobi potencialnih 3 točk. Izmed vsega pa me najbolj zanima slednje; doseženi in prejeti goli imajo seveda ravno nasproten vpliv na število točk. Ali je mogoče, da vpliva nista nasprotno enaka, torej da ima ena izmed kategorij večji vpliv na število točk kot druga?\r\n",
    "\r\n",
    "Za bolj koristne informacije bom naredil eno tabelo korelacijskih koeficientov (kot prikazano zgoraj) za vsako sezono, nato pa korelacijske koeficiente primerjal in izračunal povprečja. Tako bom dobil odgovor na moje vprašanje."
   ],
   "metadata": {}
  },
  {
   "cell_type": "code",
   "execution_count": 13,
   "source": [
    "#Dve tabeli s korelacijskimi koeficienti izbranih kategorij za vsako sezono\r\n",
    "result_pearson = pandas.DataFrame({\"League\": [], \"Goals/PTS\" : [], \"Goals Against/PTS\" : [], \"Wins/PTS\" : [], \"Draws/PTS\" : [], \"Losses/PTS\" : []})\r\n",
    "result_spearman = pandas.DataFrame({\"League\": [], \"Goals/PTS\" : [], \"Goals Against/PTS\" : [], \"Wins/PTS\" : [], \"Draws/PTS\" : [], \"Losses/PTS\" : []})\r\n",
    "for league, name in zip(league_paths, leagues):\r\n",
    "    for el in league:\r\n",
    "        tabela = pandas.read_csv(el, index_col = 0)\r\n",
    "        corr_pearson = tabela.corr(method = \"pearson\")\r\n",
    "        corr_spearman = tabela.corr(method = \"spearman\")\r\n",
    "        new_row_pearson = {\"League\": name, \"Goals/PTS\" : corr_pearson.at[\"Goals\", \"PTS\"], \"Goals Against/PTS\" : corr_pearson.at[\"Goals against\", \"PTS\"], \"Wins/PTS\" : corr_pearson.at[\"Wins\", \"PTS\"], \"Draws/PTS\" : corr_pearson.at[\"Draws\", \"PTS\"], \"Losses/PTS\" : corr_pearson.at[\"Losses\", \"PTS\"]}\r\n",
    "        new_row_spearman = {\"League\": name, \"Goals/PTS\" : corr_spearman.at[\"Goals\", \"PTS\"], \"Goals Against/PTS\" : corr_spearman.at[\"Goals against\", \"PTS\"], \"Wins/PTS\" : corr_spearman.at[\"Wins\", \"PTS\"], \"Draws/PTS\" : corr_spearman.at[\"Draws\", \"PTS\"], \"Losses/PTS\" : corr_spearman.at[\"Losses\", \"PTS\"]}\r\n",
    "        result_pearson = result_pearson.append(new_row_pearson, ignore_index=True)\r\n",
    "        result_spearman = result_spearman.append(new_row_spearman, ignore_index=True)\r\n"
   ],
   "outputs": [],
   "metadata": {}
  },
  {
   "cell_type": "code",
   "execution_count": 39,
   "source": [
    "def grafi_corr(stat):\r\n",
    "    fig, (ax1, ax2) = plt.subplots(1,2, figsize=(10,5)) \r\n",
    "    result_pearson.plot.scatter('League', stat, color = 'black', ax=ax1, label = 'Pearson')\r\n",
    "    result_spearman.plot.scatter('League', stat, color = 'blue', ax=ax2, label = 'Spearman')\r\n",
    "    plt.tight_layout()\r\n",
    "\r\n",
    "widgets.interact(grafi_corr, stat=list(result_pearson)[1:])"
   ],
   "outputs": [
    {
     "output_type": "display_data",
     "data": {
      "text/plain": [
       "interactive(children=(Dropdown(description='stat', options=('Goals/PTS', 'Goals Against/PTS', 'Wins/PTS', 'Dra…"
      ],
      "application/vnd.jupyter.widget-view+json": {
       "version_major": 2,
       "version_minor": 0,
       "model_id": "fc3e6f0a53da42c7a3bef79181867879"
      }
     },
     "metadata": {}
    },
    {
     "output_type": "execute_result",
     "data": {
      "text/plain": [
       "<function __main__.grafi_corr(stat)>"
      ]
     },
     "metadata": {},
     "execution_count": 39
    },
    {
     "output_type": "display_data",
     "data": {
      "text/plain": [
       "<Figure size 720x360 with 2 Axes>"
      ],
      "image/png": "[encoded data removed]"
     },
     "metadata": {
      "needs_background": "light"
     }
    }
   ],
   "metadata": {}
  },
  {
   "cell_type": "markdown",
   "source": [
    "Zgornja grafa prikazujeta korelacijske koeficiente po Pearsonovi (levi) in Spearmanovi metodi (desni). Opazimo precej zanimive stvari; korelacija golov na tekmo (in podobno prejetih golov) ter skupnega števila doseženih točk je precej različna od sezone do sezone. Koerlacija med zmagami in točkami je skoraj popolnoma linearna, vsi vnosi pa se nahajajo na intervalu med 0.98 in 1, kar daje precej konsistentne rezultate in iz tega lahko zaključimo, da zmage skoraj neposredno določajo število doseženih točk, čeprav tudi remiji prinesejo točko. Morda najbolj zanimiva je korelacija med remiji in točkami. Zajema namreč ogromen razpon vrednosti, od 0.2, pa tudi pod -0.6. Težko je sklepati, kakšen vpliv imajo remiji na končno število točk, če sploh ne moremo trditi, da je vpliv pozitiven oz. negativen."
   ],
   "metadata": {}
  },
  {
   "cell_type": "code",
   "execution_count": 40,
   "source": [
    "mean_p = result_pearson.mean(axis=0).tolist()\r\n",
    "mean_s = result_spearman.mean(axis=0).tolist()\r\n",
    "stats = list(result_pearson)[1:]\r\n",
    "plt.figure(figsize=(8,6))\r\n",
    "xpos = np.arange(len(stats))\r\n",
    "plt.xticks(xpos, stats)\r\n",
    "plt.axhline(y=0, color='black', linestyle='-')\r\n",
    "plt.bar(xpos-0.22, mean_p, label = \"Pearson\", width = 0.4, color = \"r\")\r\n",
    "plt.bar(xpos+0.22, mean_s, label = \"Spearman\", width = 0.4, color = \"c\")\r\n",
    "plt.title(\"Korelacijski koeficienti po obeh metodah\")\r\n",
    "plt.xlabel(\"Kategorije\")\r\n",
    "plt.ylabel(\"Korelacijski koeficient\")\r\n",
    "plt.legend()\r\n",
    "plt.show()"
   ],
   "outputs": [
    {
     "output_type": "stream",
     "name": "stderr",
     "text": [
      "C:\\Users\\jureb\\AppData\\Local\\Temp/ipykernel_9492/132245744.py:1: FutureWarning: Dropping of nuisance columns in DataFrame reductions (with 'numeric_only=None') is deprecated; in a future version this will raise TypeError.  Select only valid columns before calling the reduction.\n",
      "  mean_p = result_pearson.mean(axis=0).tolist()\n",
      "C:\\Users\\jureb\\AppData\\Local\\Temp/ipykernel_9492/132245744.py:2: FutureWarning: Dropping of nuisance columns in DataFrame reductions (with 'numeric_only=None') is deprecated; in a future version this will raise TypeError.  Select only valid columns before calling the reduction.\n",
      "  mean_s = result_spearman.mean(axis=0).tolist()\n"
     ]
    },
    {
     "output_type": "display_data",
     "data": {
      "text/plain": [
       "<Figure size 576x432 with 1 Axes>"
      ],
      "image/png": "[encoded data removed]"
     },
     "metadata": {
      "needs_background": "light"
     }
    }
   ],
   "metadata": {}
  },
  {
   "cell_type": "markdown",
   "source": [
    "Zgornji graf prikazuje povprečne korelacijske koeficiente med posameznimi kategorijami. Poleg tega pa lahko dobro vidimo, da obe metodi prineseta precej različne rezultate. Zastavil sem si vprašanje, ali imajo doseženi zadetki nasprotno enak vpliv na število točk, ali pa je morda med vplivoma večja razlika. Rezultati kažejo, da ni velike razlike med vplivoma, poleg tega da sta nasprotna, je pa vpliv doseženih golov malce večji kot vpliv prejetih. Slednje si razlagam na sledeči način: Za doseganje točk so doseženi zadetki nujno potrebni in ni dovolj le, da je prejetih zadetkov malo (saj za zmago ekipa prejme 3 točke, za remi le eno, poraz pa ne prinese ničesar)."
   ],
   "metadata": {}
  }
 ],
 "metadata": {
  "orig_nbformat": 4,
  "language_info": {
   "name": "python",
   "version": "3.9.6",
   "mimetype": "text/x-python",
   "codemirror_mode": {
    "name": "ipython",
    "version": 3
   },
   "pygments_lexer": "ipython3",
   "nbconvert_exporter": "python",
   "file_extension": ".py"
  },
  "kernelspec": {
   "name": "python3",
   "display_name": "Python 3.9.6 64-bit"
  },
  "interpreter": {
   "hash": "c8bcc8389768757f5292317b19fcabf800011358aa93cb540bb76ce0c38a9aed"
  }
 },
 "nbformat": 4,
 "nbformat_minor": 2
}